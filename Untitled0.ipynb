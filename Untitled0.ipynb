{
  "cells": [
    {
      "cell_type": "markdown",
      "metadata": {
        "id": "view-in-github",
        "colab_type": "text"
      },
      "source": [
        "<a href=\"https://colab.research.google.com/github/MiladNazirzadeh/Exchange/blob/main/Untitled0.ipynb\" target=\"_parent\"><img src=\"https://colab.research.google.com/assets/colab-badge.svg\" alt=\"Open In Colab\"/></a>"
      ]
    },
    {
      "cell_type": "code",
      "execution_count": null,
      "metadata": {
        "colab": {
          "base_uri": "https://localhost:8080/"
        },
        "id": "_-foDYIeowxi",
        "outputId": "28e481bd-b60e-47be-d356-8ceac8480fe0"
      },
      "outputs": [
        {
          "metadata": {
            "tags": null
          },
          "name": "stderr",
          "output_type": "stream",
          "text": [
            "  0%|          | 99/20000 [24:48<45:33:40,  8.24s/episodes]"
          ]
        },
        {
          "metadata": {
            "tags": null
          },
          "name": "stdout",
          "output_type": "stream",
          "text": [
            "INFO:tensorflow:Assets written to: models/2x256____25.00max_-163.60avg_-488.00min__1645636173.model/assets\n"
          ]
        },
        {
          "metadata": {
            "tags": null
          },
          "name": "stderr",
          "output_type": "stream",
          "text": [
            "  1%|          | 199/20000 [52:11<109:37:25, 19.93s/episodes]"
          ]
        },
        {
          "metadata": {
            "tags": null
          },
          "name": "stdout",
          "output_type": "stream",
          "text": [
            "INFO:tensorflow:Assets written to: models/2x256____24.00max_-167.18avg_-489.00min__1645637822.model/assets\n"
          ]
        },
        {
          "metadata": {
            "tags": null
          },
          "name": "stderr",
          "output_type": "stream",
          "text": [
            "  1%|1         | 299/20000 [1:25:53<86:38:33, 15.83s/episodes] "
          ]
        },
        {
          "metadata": {
            "tags": null
          },
          "name": "stdout",
          "output_type": "stream",
          "text": [
            "INFO:tensorflow:Assets written to: models/2x256____25.00max_-175.24avg_-453.00min__1645639881.model/assets\n"
          ]
        },
        {
          "metadata": {
            "tags": null
          },
          "name": "stderr",
          "output_type": "stream",
          "text": [
            "  2%|1         | 349/20000 [1:43:52<98:19:57, 18.01s/episodes] "
          ]
        },
        {
          "metadata": {
            "tags": null
          },
          "name": "stdout",
          "output_type": "stream",
          "text": [
            "INFO:tensorflow:Assets written to: models/2x256____25.00max_-164.40avg_-452.00min__1645640925.model/assets\n"
          ]
        },
        {
          "metadata": {
            "tags": null
          },
          "name": "stderr",
          "output_type": "stream",
          "text": [
            "  2%|2         | 449/20000 [2:13:05<117:33:45, 21.65s/episodes]"
          ]
        },
        {
          "metadata": {
            "tags": null
          },
          "name": "stdout",
          "output_type": "stream",
          "text": [
            "INFO:tensorflow:Assets written to: models/2x256____24.00max_-181.18avg_-491.00min__1645642669.model/assets\n"
          ]
        },
        {
          "metadata": {
            "tags": null
          },
          "name": "stderr",
          "output_type": "stream",
          "text": [
            "  2%|2         | 499/20000 [2:28:42<105:07:25, 19.41s/episodes]"
          ]
        },
        {
          "metadata": {
            "tags": null
          },
          "name": "stdout",
          "output_type": "stream",
          "text": [
            "INFO:tensorflow:Assets written to: models/2x256____22.00max_-191.02avg_-413.00min__1645643612.model/assets\n"
          ]
        },
        {
          "metadata": {
            "tags": null
          },
          "name": "stderr",
          "output_type": "stream",
          "text": [
            "  3%|2         | 549/20000 [2:46:37<118:13:53, 21.88s/episodes]"
          ]
        },
        {
          "metadata": {
            "tags": null
          },
          "name": "stdout",
          "output_type": "stream",
          "text": [
            "INFO:tensorflow:Assets written to: models/2x256____21.00max_-199.84avg_-495.00min__1645644692.model/assets\n"
          ]
        },
        {
          "metadata": {
            "tags": null
          },
          "name": "stderr",
          "output_type": "stream",
          "text": [
            "  3%|3         | 649/20000 [3:17:25<161:28:11, 30.04s/episodes]"
          ]
        },
        {
          "metadata": {
            "tags": null
          },
          "name": "stdout",
          "output_type": "stream",
          "text": [
            "INFO:tensorflow:Assets written to: models/2x256____24.00max_-174.30avg_-431.00min__1645646553.model/assets\n"
          ]
        },
        {
          "metadata": {
            "tags": null
          },
          "name": "stderr",
          "output_type": "stream",
          "text": [
            "  3%|3         | 699/20000 [3:31:31<62:37:10, 11.68s/episodes]"
          ]
        },
        {
          "metadata": {
            "tags": null
          },
          "name": "stdout",
          "output_type": "stream",
          "text": [
            "INFO:tensorflow:Assets written to: models/2x256____25.00max_-196.92avg_-490.00min__1645647387.model/assets\n"
          ]
        },
        {
          "metadata": {
            "tags": null
          },
          "name": "stderr",
          "output_type": "stream",
          "text": [
            "  4%|3         | 749/20000 [3:47:26<71:07:52, 13.30s/episodes]"
          ]
        },
        {
          "metadata": {
            "tags": null
          },
          "name": "stdout",
          "output_type": "stream",
          "text": [
            "INFO:tensorflow:Assets written to: models/2x256____25.00max_-187.46avg_-420.00min__1645648329.model/assets\n"
          ]
        },
        {
          "metadata": {
            "tags": null
          },
          "name": "stderr",
          "output_type": "stream",
          "text": [
            "  4%|3         | 799/20000 [4:04:22<140:51:58, 26.41s/episodes]"
          ]
        },
        {
          "metadata": {
            "tags": null
          },
          "name": "stdout",
          "output_type": "stream",
          "text": [
            "INFO:tensorflow:Assets written to: models/2x256____24.00max_-199.74avg_-483.00min__1645649387.model/assets\n"
          ]
        },
        {
          "metadata": {
            "tags": null
          },
          "name": "stderr",
          "output_type": "stream",
          "text": [
            "  4%|4         | 849/20000 [4:22:38<91:01:29, 17.11s/episodes] "
          ]
        },
        {
          "metadata": {
            "tags": null
          },
          "name": "stdout",
          "output_type": "stream",
          "text": [
            "INFO:tensorflow:Assets written to: models/2x256____19.00max_-196.34avg_-451.00min__1645650443.model/assets\n"
          ]
        },
        {
          "metadata": {
            "tags": null
          },
          "name": "stderr",
          "output_type": "stream",
          "text": [
            "  4%|4         | 899/20000 [4:38:57<75:50:22, 14.29s/episodes] "
          ]
        },
        {
          "metadata": {
            "tags": null
          },
          "name": "stdout",
          "output_type": "stream",
          "text": [
            "INFO:tensorflow:Assets written to: models/2x256____24.00max_-185.00avg_-460.00min__1645651420.model/assets\n"
          ]
        },
        {
          "output_type": "stream",
          "name": "stderr",
          "text": [
            "  5%|4         | 949/20000 [4:52:43<172:58:08, 32.69s/episodes]"
          ]
        },
        {
          "output_type": "stream",
          "name": "stdout",
          "text": [
            "INFO:tensorflow:Assets written to: models/2x256____24.00max_-178.76avg_-489.00min__1645652274.model/assets\n"
          ]
        },
        {
          "output_type": "stream",
          "name": "stderr",
          "text": [
            "  5%|4         | 999/20000 [5:12:04<162:34:53, 30.80s/episodes]"
          ]
        },
        {
          "output_type": "stream",
          "name": "stdout",
          "text": [
            "INFO:tensorflow:Assets written to: models/2x256____23.00max_-176.66avg_-498.00min__1645653446.model/assets\n"
          ]
        },
        {
          "output_type": "stream",
          "name": "stderr",
          "text": [
            "  5%|5         | 1027/20000 [5:20:16<96:03:44, 18.23s/episodes] "
          ]
        }
      ],
      "source": [
        "import numpy as np\n",
        "from torch.utils.tensorboard import SummaryWriter\n",
        "from keras.backend import set_session\n",
        "from keras.models import Sequential\n",
        "from keras.layers import Dense, Dropout, Conv2D, MaxPooling2D, Activation, Flatten\n",
        "from keras.callbacks import TensorBoard\n",
        "from keras.optimizer_experimental import adam\n",
        "import tensorflow as tf\n",
        "from collections import deque\n",
        "from keras import optimizers\n",
        "import time\n",
        "import random\n",
        "from tensorflow import keras\n",
        "from tqdm import tqdm\n",
        "import os\n",
        "from PIL import Image\n",
        "import cv2\n",
        "import time\n",
        "\n",
        "\n",
        "DISCOUNT = 0.99\n",
        "REPLAY_MEMORY_SIZE = 50_000  # How many last steps to keep for model training\n",
        "MIN_REPLAY_MEMORY_SIZE = 1_000  # Minimum number of steps in a memory to start training\n",
        "MINIBATCH_SIZE = 30  # How many steps (samples) to use for training\n",
        "UPDATE_TARGET_EVERY = 5  # Terminal states (end of episodes)\n",
        "MODEL_NAME = '2x256'\n",
        "MIN_REWARD = -200  # For model save\n",
        "MEMORY_FRACTION = 0.20\n",
        "\n",
        "# Environment settings\n",
        "EPISODES = 20_000\n",
        "\n",
        "# Exploration settings\n",
        "epsilon = 1  # not a constant, going to be decayed\n",
        "EPSILON_DECAY = 0.99975\n",
        "MIN_EPSILON = 0.001\n",
        "\n",
        "#  Stats settings\n",
        "AGGREGATE_STATS_EVERY = 50  # episodes\n",
        "SHOW_PREVIEW = False\n",
        "\n",
        "class BlobEnv:\n",
        "    SIZE = 10\n",
        "    RETURN_IMAGES = True\n",
        "    MOVE_PENALTY = 1\n",
        "    ENEMY_PENALTY = 300\n",
        "    FOOD_REWARD = 25\n",
        "    OBSERVATION_SPACE_VALUES = (SIZE, SIZE, 3)  # 4\n",
        "    ACTION_SPACE_SIZE = 9\n",
        "    PLAYER_N = 1  # player key in dict\n",
        "    FOOD_N = 2  # food key in dict\n",
        "    ENEMY_N = 3  # enemy key in dict\n",
        "    # the dict! (colors)\n",
        "    d = {1: (255, 175, 0),\n",
        "         2: (0, 255, 0),\n",
        "         3: (0, 0, 255)}\n",
        "\n",
        "    def reset(self):\n",
        "        self.player = Blob(self.SIZE)\n",
        "        self.food = Blob(self.SIZE)\n",
        "        while self.food == self.player:\n",
        "            self.food = Blob(self.SIZE)\n",
        "        self.enemy = Blob(self.SIZE)\n",
        "        while self.enemy == self.player or self.enemy == self.food:\n",
        "            self.enemy = Blob(self.SIZE)\n",
        "\n",
        "        self.episode_step = 0\n",
        "\n",
        "        if self.RETURN_IMAGES:\n",
        "            observation = np.array(self.get_image())\n",
        "        else:\n",
        "            observation = (self.player-self.food) + (self.player-self.enemy)\n",
        "        return observation\n",
        "\n",
        "    def step(self, action):\n",
        "        self.episode_step += 1\n",
        "        self.player.action(action)\n",
        "\n",
        "        #### MAYBE ###\n",
        "        #enemy.move()\n",
        "        #food.move()\n",
        "        ##############\n",
        "\n",
        "        if self.RETURN_IMAGES:\n",
        "            new_observation = np.array(self.get_image())\n",
        "        else:\n",
        "            new_observation = (self.player-self.food) + (self.player-self.enemy)\n",
        "\n",
        "        if self.player == self.enemy:\n",
        "            reward = -self.ENEMY_PENALTY\n",
        "        elif self.player == self.food:\n",
        "            reward = self.FOOD_REWARD\n",
        "        else:\n",
        "            reward = -self.MOVE_PENALTY\n",
        "\n",
        "        done = False\n",
        "        if reward == self.FOOD_REWARD or reward == -self.ENEMY_PENALTY or self.episode_step >= 200:\n",
        "            done = True\n",
        "\n",
        "        return new_observation, reward, done\n",
        "\n",
        "    def render(self):\n",
        "        img = self.get_image()\n",
        "        img = img.resize((300, 300))  # resizing so we can see our agent in all its glory.\n",
        "        cv2.imshow(\"image\", np.array(img))  # show it!\n",
        "        cv2.waitKey(1)\n",
        "\n",
        "    # FOR CNN #\n",
        "    def get_image(self):\n",
        "        env = np.zeros((self.SIZE, self.SIZE, 3), dtype=np.uint8)  # starts an rbg of our size\n",
        "        env[self.food.x][self.food.y] = self.d[self.FOOD_N]  # sets the food location tile to green color\n",
        "        env[self.enemy.x][self.enemy.y] = self.d[self.ENEMY_N]  # sets the enemy location to red\n",
        "        env[self.player.x][self.player.y] = self.d[self.PLAYER_N]  # sets the player tile to blue\n",
        "        img = Image.fromarray(env, 'RGB')  # reading to rgb. Apparently. Even tho color definitions are bgr. ???\n",
        "        return img\n",
        "\n",
        "\n",
        "env = BlobEnv()\n",
        "\n",
        "# For stats\n",
        "ep_rewards = [-200]\n",
        "\n",
        "# For more repetitive results\n",
        "random.seed(1)\n",
        "np.random.seed(1)\n",
        "tf.random.set_seed(1)\n",
        "\n",
        "# Create models folder\n",
        "if not os.path.isdir('models'):\n",
        "    os.makedirs('models')\n",
        "\n",
        "\n",
        "# Own Tensorboard class\n",
        "class ModifiedTensorBoard(TensorBoard):\n",
        "\n",
        "# Overriding init to set initial step and writer (we want one log file for all .fit() calls)\n",
        "    def __init__(self, **kwargs):\n",
        "        super().__init__(**kwargs)\n",
        "        self.step = 1\n",
        "        self.writer = tf.summary.create_file_writer(self.log_dir)\n",
        "\n",
        "# Overriding this method to stop creating default log writer\n",
        "    def set_model(self, model):\n",
        "        self.model = model\n",
        "        self._log_write_dir = self.log_dir\n",
        "        self._train_dir = os.path.join(self._log_write_dir, 'train')\n",
        "        self._train_step = self.model._train_counter\n",
        "        self._val_dir = os.path.join(self._log_write_dir, 'validation')\n",
        "        self._should_write_train_graph = False\n",
        "# Overrided, saves logs with our step number\n",
        "# (otherwise every .fit() will start writing from 0th step)\n",
        "    def on_epoch_end(self, epoch, logs=None):\n",
        "        self.update_stats(**logs)\n",
        "\n",
        "# Overrided\n",
        "# We train for one batch only, no need to save anything at epoch end\n",
        "    def on_batch_end(self, batch, logs=None):\n",
        "        pass\n",
        "\n",
        "# Overrided, so won't close writer\n",
        "    def on_train_end(self, _):\n",
        "        pass\n",
        "\n",
        "    def _write_logs(self, logs, index):\n",
        "        with self.writer.as_default():\n",
        "            for log in logs.items():\n",
        "                tf.summary.scalar(log[0],log[1],step=index)\n",
        "            #self.writer.\n",
        "            # (summary, index)\n",
        "        \n",
        "# Custom method for saving own metrics\n",
        "# Creates writer, writes custom metrics and closes writer\n",
        "    def update_stats(self, **stats):\n",
        "        self._write_logs(stats, self.step)\n",
        "\n",
        "\n",
        "class DQNAgent:\n",
        "    def __init__(self):\n",
        "\n",
        "        # main model  # gets trained every step\n",
        "        self.model = self.create_model()\n",
        "\n",
        "        # Target model this is what we .predict against every step\n",
        "        self.target_model = self.create_model()\n",
        "        self.target_model.set_weights(self.model.get_weights())\n",
        "\n",
        "        self.replay_memory = deque(maxlen=REPLAY_MEMORY_SIZE)\n",
        "        self.tensorboard = ModifiedTensorBoard(log_dir=f\"logs/{MODEL_NAME}-{int(time.time())}\")\n",
        "        self.target_update_counter = 0\n",
        "\n",
        "    def create_model(self):\n",
        "        model = Sequential()\n",
        "        model.add(Conv2D(256, (3, 3), input_shape=env.OBSERVATION_SPACE_VALUES))\n",
        "        model.add(Activation(\"relu\"))\n",
        "        model.add(MaxPooling2D(2, 2))\n",
        "        model.add(Dropout(0.2))\n",
        "\n",
        "        model.add(Conv2D(256, (3, 3)))\n",
        "        model.add(Activation(\"relu\"))\n",
        "        model.add(MaxPooling2D(2, 2))\n",
        "        model.add(Dropout(0.2))\n",
        "\n",
        "        model.add(Flatten())\n",
        "        model.add(Dense(64))\n",
        "\n",
        "        \n",
        "        model.add(Dense(env.ACTION_SPACE_SIZE, activation=\"linear\"))\n",
        "        model.compile(loss=\"mse\", optimizer=tf.keras.optimizers.Adam(learning_rate=0.01), metrics=['accuracy'])\n",
        "        return model\n",
        "\n",
        "    def update_replay_memory(self, transition):\n",
        "        self.replay_memory.append(transition)\n",
        "\n",
        "    def get_qs(self, state):\n",
        "        return self.model.predict(np.array(state).reshape(-1, *state.shape)/255)[0]\n",
        "\n",
        "\n",
        "    def train(self , terminal_state , step):\n",
        "        if len(self.replay_memory)<MIN_REPLAY_MEMORY_SIZE:\n",
        "            return\n",
        "\n",
        "        minibatch = random.sample(self.replay_memory , MINIBATCH_SIZE)\n",
        "        current_states = np.array( [transition[0] for transition in minibatch ])/255\n",
        "        current_qs_list = self.model.predict(current_states)\n",
        "\n",
        "\n",
        "        new_current_states = np.array([transition[3] for transition in minibatch ])/255\n",
        "        future_qs_list = self.target_model.predict(new_current_states)\n",
        "\n",
        "        X = []\n",
        "        y = []\n",
        "        \n",
        "        for index, (current_state, action, reward, new_current_state, done) in enumerate(minibatch):\n",
        "\n",
        "            # If not a terminal state, get new q from future states, otherwise set it to 0\n",
        "            # almost like with Q Learning, but we use just part of equation here\n",
        "            if not done:\n",
        "                max_future_q = np.max(future_qs_list[index])\n",
        "                new_q = reward + DISCOUNT * max_future_q\n",
        "            else:\n",
        "                new_q = reward\n",
        "\n",
        "                        # Update Q value for given state\n",
        "            current_qs = current_qs_list[index]\n",
        "            current_qs[action] = new_q\n",
        "\n",
        "            # And append to our training data\n",
        "            X.append(current_state)\n",
        "            y.append(current_qs)\n",
        "        \n",
        "                # Fit on all samples as one batch, log only on terminal state\n",
        "        self.model.fit(np.array(X)/255, np.array(y), batch_size=MINIBATCH_SIZE, verbose=0, shuffle=False, callbacks=[self.tensorboard] if terminal_state else None)\n",
        "    \n",
        "\n",
        "                # Update target network counter every episode\n",
        "        if terminal_state:\n",
        "            self.target_update_counter += 1\n",
        "\n",
        "        # If counter reaches set value, update target network with weights of main network\n",
        "        if self.target_update_counter > UPDATE_TARGET_EVERY:\n",
        "            self.target_model.set_weights(self.model.get_weights())\n",
        "            self.target_update_counter = 0\n",
        "\n",
        "class Blob:\n",
        "    def __init__(self, size):\n",
        "        self.size = size\n",
        "        self.x = np.random.randint(0, size)\n",
        "        self.y = np.random.randint(0, size)\n",
        "\n",
        "    def __str__(self):\n",
        "        return f\"Blob ({self.x}, {self.y})\"\n",
        "\n",
        "    def __sub__(self, other):\n",
        "        return (self.x-other.x, self.y-other.y)\n",
        "\n",
        "    def __eq__(self, other):\n",
        "        return self.x == other.x and self.y == other.y\n",
        "\n",
        "    def action(self, choice):\n",
        "        '''\n",
        "        Gives us 9 total movement options. (0,1,2,3,4,5,6,7,8)\n",
        "        '''\n",
        "        if choice == 0:\n",
        "            self.move(x=1, y=1)\n",
        "        elif choice == 1:\n",
        "            self.move(x=-1, y=-1)\n",
        "        elif choice == 2:\n",
        "            self.move(x=-1, y=1)\n",
        "        elif choice == 3:\n",
        "            self.move(x=1, y=-1)\n",
        "\n",
        "        elif choice == 4:\n",
        "            self.move(x=1, y=0)\n",
        "        elif choice == 5:\n",
        "            self.move(x=-1, y=0)\n",
        "\n",
        "        elif choice == 6:\n",
        "            self.move(x=0, y=1)\n",
        "        elif choice == 7:\n",
        "            self.move(x=0, y=-1)\n",
        "\n",
        "        elif choice == 8:\n",
        "            self.move(x=0, y=0)\n",
        "\n",
        "    def move(self, x=False, y=False):\n",
        "\n",
        "        # If no value for x, move randomly\n",
        "        if not x:\n",
        "            self.x += np.random.randint(-1, 2)\n",
        "        else:\n",
        "            self.x += x\n",
        "\n",
        "        # If no value for y, move randomly\n",
        "        if not y:\n",
        "            self.y += np.random.randint(-1, 2)\n",
        "        else:\n",
        "            self.y += y\n",
        "\n",
        "        # If we are out of bounds, fix!\n",
        "        if self.x < 0:\n",
        "            self.x = 0\n",
        "        elif self.x > self.size-1:\n",
        "            self.x = self.size-1\n",
        "        if self.y < 0:\n",
        "            self.y = 0\n",
        "        elif self.y > self.size-1:\n",
        "            self.y = self.size-1\n",
        "\n",
        "\n",
        "\n",
        "agent = DQNAgent()\n",
        "\n",
        "# Iterate over episodes\n",
        "for episode in tqdm(range(1, EPISODES + 1), ascii=True, unit='episodes'):\n",
        "        # Update tensorboard step every episode\n",
        "    agent.tensorboard.step = episode\n",
        "\n",
        "    # Restarting episode - reset episode reward and step number\n",
        "    episode_reward = 0\n",
        "    step = 1\n",
        "\n",
        "    # Reset environment and get initial state\n",
        "    current_state = env.reset()\n",
        "\n",
        "        # Reset flag and start iterating until episode ends\n",
        "    done = False\n",
        "    while not done:\n",
        "\n",
        "        # This part stays mostly the same, the change is to query a model for Q values\n",
        "        if np.random.random() > epsilon:\n",
        "            # Get action from Q table\n",
        "            action = np.argmax(agent.get_qs(current_state))\n",
        "        else:\n",
        "            # Get random action\n",
        "            action = np.random.randint(0, env.ACTION_SPACE_SIZE)\n",
        "\n",
        "        new_state, reward, done = env.step(action)\n",
        "\n",
        "                # Transform new continous state to new discrete state and count reward\n",
        "        episode_reward += reward\n",
        "\n",
        "        if SHOW_PREVIEW and not episode % AGGREGATE_STATS_EVERY:\n",
        "            env.render()\n",
        "\n",
        "        # Every step we update replay memory and train main network\n",
        "        agent.update_replay_memory((current_state, action, reward, new_state, done))\n",
        "        agent.train(done, step)\n",
        "        current_state = new_state\n",
        "        step += 1\n",
        "\n",
        "        # Append episode reward to a list and log stats (every given number of episodes)\n",
        "    ep_rewards.append(episode_reward)\n",
        "    if not episode % AGGREGATE_STATS_EVERY or episode == 1:\n",
        "        average_reward = sum(ep_rewards[-AGGREGATE_STATS_EVERY:])/len(ep_rewards[-AGGREGATE_STATS_EVERY:])\n",
        "        min_reward = min(ep_rewards[-AGGREGATE_STATS_EVERY:])\n",
        "        max_reward = max(ep_rewards[-AGGREGATE_STATS_EVERY:])\n",
        "        agent.tensorboard.update_stats(reward_avg=average_reward, reward_min=min_reward, reward_max=max_reward, epsilon=epsilon)\n",
        "\n",
        "        # Save model, but only when min reward is greater or equal a set value\n",
        "        if average_reward >= MIN_REWARD:\n",
        "            agent.model.save(f'models/{MODEL_NAME}__{max_reward:_>7.2f}max_{average_reward:_>7.2f}avg_{min_reward:_>7.2f}min__{int(time.time())}.model')\n",
        "\n",
        "\n",
        "        # Decay epsilon\n",
        "    if epsilon > MIN_EPSILON:\n",
        "        epsilon *= EPSILON_DECAY\n",
        "        epsilon = max(MIN_EPSILON, epsilon)\n",
        "\n",
        "\n",
        "\n",
        "\n"
      ]
    }
  ],
  "metadata": {
    "colab": {
      "collapsed_sections": [],
      "name": "Untitled0.ipynb",
      "provenance": [],
      "mount_file_id": "1qFRTgoXZrDGI5xSaz5yHsE7zF4Agwbh_",
      "authorship_tag": "ABX9TyMnayHkPb3GkP7gakKimZ4z",
      "include_colab_link": true
    },
    "kernelspec": {
      "display_name": "Python 3",
      "name": "python3"
    },
    "language_info": {
      "name": "python"
    }
  },
  "nbformat": 4,
  "nbformat_minor": 0
}